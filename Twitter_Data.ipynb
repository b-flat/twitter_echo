{
 "cells": [
  {
   "cell_type": "code",
   "execution_count": 9,
   "metadata": {
    "collapsed": false
   },
   "outputs": [],
   "source": [
    "import os\n",
    "import json\n",
    "import string\n",
    "import tweepy\n",
    "import time"
   ]
  },
  {
   "cell_type": "code",
   "execution_count": 10,
   "metadata": {
    "collapsed": false
   },
   "outputs": [
    {
     "name": "stdout",
     "output_type": "stream",
     "text": [
      "2017-03-04 17:47:10.192041\n"
     ]
    }
   ],
   "source": [
    "import datetime\n",
    "\n",
    "print datetime.datetime.now()"
   ]
  },
  {
   "cell_type": "code",
   "execution_count": 4,
   "metadata": {
    "collapsed": true
   },
   "outputs": [],
   "source": [
    "consumer_key = os.getenv('consumer_key')\n",
    "consumer_secret = os.getenv('consumer_secret')\n",
    "access_token = os.getenv('access_token')\n",
    "access_token_secret = os.getenv('access_token_secret')\n",
    "\n",
    "auth = tweepy.OAuthHandler(consumer_key, consumer_secret)\n",
    "auth.set_access_token(access_token, access_token_secret)\n",
    "api = tweepy.API(auth)"
   ]
  },
  {
   "cell_type": "code",
   "execution_count": 10,
   "metadata": {
    "collapsed": true
   },
   "outputs": [],
   "source": [
    "def extract_id_dt_txt(tweepy_status):\n",
    "    return (tweepy_status.id, str(tweepy_status.created_at), tweepy_status.text)\n",
    "\n",
    "def extract_id(tweepy_status):\n",
    "    return (tweepy_status.id)"
   ]
  },
  {
   "cell_type": "code",
   "execution_count": 28,
   "metadata": {
    "collapsed": true
   },
   "outputs": [],
   "source": [
    "search_results = api.search(q=r\"amazon echo\", since_id=0, count = 100)\n",
    "tmp_results = map(lambda s: extract_id_dt_txt(s), search_results)\n",
    "\n",
    "min_max_id = min(tmp_results, key = lambda x: x[0])\n",
    "\n",
    "search_results2 = api.search(q=r\"amazon echo\", max_id=min_max_id[0], count = 100)\n",
    "tmp_results2 = map(lambda s: extract_id_dt_txt(s), search_results2)\n",
    "\n",
    "min_max_id = min(tmp_results2, key = lambda x: x[0])\n",
    "\n",
    "search_results3 = api.search(q=r\"amazon echo\", max_id=min_max_id[0], count = 100)\n",
    "tmp_results3 = map(lambda s: extract_id_dt_txt(s), search_results3)\n",
    "\n",
    "twitter_json = map(lambda tweet_status:tweet_status._json, search_results)\n",
    "twitter_json_2 = map(lambda tweet_status:tweet_status._json, search_results2)\n",
    "twitter_json_3 = map(lambda tweet_status:tweet_status._json, search_results3) \n",
    "\n",
    "twitter_json_all = twitter_json + twitter_json_2 + twitter_json_3"
   ]
  },
  {
   "cell_type": "code",
   "execution_count": 47,
   "metadata": {
    "collapsed": false
   },
   "outputs": [
    {
     "data": {
      "text/plain": [
       "tweepy.models.SearchResults"
      ]
     },
     "execution_count": 47,
     "metadata": {},
     "output_type": "execute_result"
    }
   ],
   "source": [
    "type(search_results) #tweepy.models.SearchResults\n",
    "\n",
    "type(search_results[0]) #tweepy.models.Status"
   ]
  },
  {
   "cell_type": "code",
   "execution_count": 46,
   "metadata": {
    "collapsed": false
   },
   "outputs": [
    {
     "data": {
      "text/plain": [
       "u'Local council doing citizen outreach and support with the Amazon #Echo: https://t.co/eObRM6HEe7 #AI #local #government'"
      ]
     },
     "execution_count": 46,
     "metadata": {},
     "output_type": "execute_result"
    }
   ],
   "source": [
    "twitter_json[0]['text']"
   ]
  },
  {
   "cell_type": "code",
   "execution_count": 29,
   "metadata": {
    "collapsed": true
   },
   "outputs": [],
   "source": [
    "#write our json text to a file\n",
    "with open('amazon_twitter.txt', 'wb+') as f:\n",
    "    f.write(json.dumps(twitter_json_all))"
   ]
  },
  {
   "cell_type": "code",
   "execution_count": null,
   "metadata": {
    "collapsed": true
   },
   "outputs": [],
   "source": [
    "def tweetpy_statuses_to_json(list_of_statuses):\n",
    "    return map(lambda tweepy_status: tweepy_status._json, list_of_statuses)"
   ]
  },
  {
   "cell_type": "code",
   "execution_count": null,
   "metadata": {
    "collapsed": true
   },
   "outputs": [],
   "source": []
  },
  {
   "cell_type": "code",
   "execution_count": 5,
   "metadata": {
    "collapsed": false
   },
   "outputs": [],
   "source": [
    "def query_data(n):\n",
    "    search_results = api.search(q=r\"amazon echo\", since_id=0, count = 100)\n",
    "    twitter_json = map(lambda tweepy_status: tweepy_status._json, search_results)\n",
    "    twitter_json_all = twitter_json\n",
    "    for i in xrange(n):\n",
    "        try:\n",
    "            ids = map(lambda tweepy_status: tweepy_status.id, search_results)\n",
    "            search_results = api.search(q=r\"amazon echo\", max_id=min(ids), count = 100)\n",
    "            twitter_json = map(lambda tweepy_status: tweepy_status._json, search_results)\n",
    "            #twitter_json = tweetpy_statuses_to_json(search_results)\n",
    "            twitter_json_all += twitter_json\n",
    "        except:\n",
    "            time.sleep(60 * 15)\n",
    "            continue\n",
    "    return twitter_json_all"
   ]
  },
  {
   "cell_type": "code",
   "execution_count": null,
   "metadata": {
    "collapsed": true
   },
   "outputs": [],
   "source": [
    "# while True:\n",
    "#     try:\n",
    "#         tweet = c.next()\n",
    "#         # Insert into db\n",
    "#     except tweepy.TweepError:\n",
    "#         time.sleep(60 * 15)\n",
    "#         continue\n",
    "#     except StopIteration:\n",
    "#         break"
   ]
  },
  {
   "cell_type": "code",
   "execution_count": null,
   "metadata": {
    "collapsed": true
   },
   "outputs": [],
   "source": [
    "# def query_data(n):\n",
    "#     twitter_json_all = []\n",
    "#     min_id = 0\n",
    "#     for i in xrange(n):\n",
    "#         search_results = api.search(q=r\"amazon echo\", max_id=min_id, count = 100)\n",
    "#         twitter_json = map(lambda tweepy_status: tweepy_status._json, search_results)\n",
    "#         twitter_json_all += twitter_json\n",
    "#         ids = map(lambda tweepy_status: tweepy_status.id, search_results)\n",
    "#         min_id = min(ids)   \n",
    "#     return twitter_json_all"
   ]
  },
  {
   "cell_type": "code",
   "execution_count": 7,
   "metadata": {
    "collapsed": false
   },
   "outputs": [],
   "source": [
    "twitter_json_all = query_data(2)"
   ]
  },
  {
   "cell_type": "code",
   "execution_count": 8,
   "metadata": {
    "collapsed": true
   },
   "outputs": [],
   "source": [
    "with open('amazon_twitter.txt', 'wb+') as f:\n",
    "    f.write(json.dumps(twitter_json_all))"
   ]
  },
  {
   "cell_type": "code",
   "execution_count": 11,
   "metadata": {
    "collapsed": false
   },
   "outputs": [],
   "source": [
    "search_results = api.search(q=r\"amazon echo\", since_id=0)"
   ]
  },
  {
   "cell_type": "code",
   "execution_count": 12,
   "metadata": {
    "collapsed": true
   },
   "outputs": [
    {
     "data": {
      "text/plain": [
       "Status(contributors=None, truncated=False, text=u'Fighting Echo Warrant, Amazon Has Scant Law to Draw On https://t.co/8TQ8JN2xUe (via @InsideCounsel)', is_quote_status=False, in_reply_to_status_id=None, id=837372112335593472, favorite_count=0, _api=<tweepy.api.API object at 0x106d84bd0>, author=User(follow_request_sent=False, has_extended_profile=False, profile_use_background_image=False, _json={u'follow_request_sent': False, u'has_extended_profile': False, u'profile_use_background_image': False, u'default_profile_image': False, u'id': 836399090, u'profile_background_image_url_https': u'https://abs.twimg.com/images/themes/theme1/bg.png', u'verified': False, u'translator_type': u'none', u'profile_text_color': u'000000', u'profile_image_url_https': u'https://pbs.twimg.com/profile_images/378800000641364003/b94c4f3d922ca606b2c4f0b534383c02_normal.jpeg', u'profile_sidebar_fill_color': u'000000', u'entities': {u'url': {u'urls': [{u'url': u'https://t.co/WQKHI7Ckjp', u'indices': [0, 23], u'expanded_url': u'https://www.linkedin.com/in/karlenegoller', u'display_url': u'linkedin.com/in/karlenegoll\\u2026'}]}, u'description': {u'urls': []}}, u'followers_count': 314, u'profile_sidebar_border_color': u'000000', u'id_str': u'836399090', u'profile_background_color': u'000000', u'listed_count': 12, u'is_translation_enabled': False, u'utc_offset': None, u'statuses_count': 2521, u'description': u'---The Law Office of Karlene Goller---  Media lawyer: content vetting, open records, newsgathering, production, IP. Lecturer of Media Law @UCILaw', u'friends_count': 516, u'location': u'Los Angeles, CA', u'profile_link_color': u'1B95E0', u'profile_image_url': u'http://pbs.twimg.com/profile_images/378800000641364003/b94c4f3d922ca606b2c4f0b534383c02_normal.jpeg', u'following': False, u'geo_enabled': False, u'profile_banner_url': u'https://pbs.twimg.com/profile_banners/836399090/1474068596', u'profile_background_image_url': u'http://abs.twimg.com/images/themes/theme1/bg.png', u'screen_name': u'KarleneGoller', u'lang': u'en', u'profile_background_tile': False, u'favourites_count': 620, u'name': u'Karlene Goller', u'notifications': False, u'url': u'https://t.co/WQKHI7Ckjp', u'created_at': u'Thu Sep 20 21:32:31 +0000 2012', u'contributors_enabled': False, u'time_zone': None, u'protected': False, u'default_profile': False, u'is_translator': False}, time_zone=None, id=836399090, description=u'---The Law Office of Karlene Goller---  Media lawyer: content vetting, open records, newsgathering, production, IP. Lecturer of Media Law @UCILaw', _api=<tweepy.api.API object at 0x106d84bd0>, verified=False, profile_text_color=u'000000', profile_image_url_https=u'https://pbs.twimg.com/profile_images/378800000641364003/b94c4f3d922ca606b2c4f0b534383c02_normal.jpeg', profile_sidebar_fill_color=u'000000', is_translator=False, geo_enabled=False, entities={u'url': {u'urls': [{u'url': u'https://t.co/WQKHI7Ckjp', u'indices': [0, 23], u'expanded_url': u'https://www.linkedin.com/in/karlenegoller', u'display_url': u'linkedin.com/in/karlenegoll\\u2026'}]}, u'description': {u'urls': []}}, followers_count=314, protected=False, id_str=u'836399090', default_profile_image=False, listed_count=12, lang=u'en', utc_offset=None, statuses_count=2521, profile_background_color=u'000000', friends_count=516, profile_link_color=u'1B95E0', profile_image_url=u'http://pbs.twimg.com/profile_images/378800000641364003/b94c4f3d922ca606b2c4f0b534383c02_normal.jpeg', notifications=False, default_profile=False, profile_background_image_url_https=u'https://abs.twimg.com/images/themes/theme1/bg.png', profile_banner_url=u'https://pbs.twimg.com/profile_banners/836399090/1474068596', profile_background_image_url=u'http://abs.twimg.com/images/themes/theme1/bg.png', name=u'Karlene Goller', is_translation_enabled=False, profile_background_tile=False, favourites_count=620, screen_name=u'KarleneGoller', url=u'https://t.co/WQKHI7Ckjp', created_at=datetime.datetime(2012, 9, 20, 21, 32, 31), contributors_enabled=False, location=u'Los Angeles, CA', profile_sidebar_border_color=u'000000', translator_type=u'none', following=False), _json={u'contributors': None, u'truncated': False, u'text': u'Fighting Echo Warrant, Amazon Has Scant Law to Draw On https://t.co/8TQ8JN2xUe (via @InsideCounsel)', u'is_quote_status': False, u'in_reply_to_status_id': None, u'id': 837372112335593472, u'favorite_count': 0, u'entities': {u'symbols': [], u'user_mentions': [{u'id': 29754207, u'indices': [84, 98], u'id_str': u'29754207', u'screen_name': u'InsideCounsel', u'name': u'InsideCounsel'}], u'hashtags': [], u'urls': [{u'url': u'https://t.co/8TQ8JN2xUe', u'indices': [55, 78], u'expanded_url': u'http://www.insidecounsel.com/2017/03/01/fighting-echo-warrant-amazon-has-scant-law-to-draw#.WLhnKNCsNpA.twitter', u'display_url': u'insidecounsel.com/2017/03/01/fig\\u2026'}]}, u'retweeted': False, u'coordinates': None, u'source': u'<a href=\"http://twitter.com\" rel=\"nofollow\">Twitter Web Client</a>', u'in_reply_to_screen_name': None, u'in_reply_to_user_id': None, u'retweet_count': 0, u'id_str': u'837372112335593472', u'favorited': False, u'user': {u'follow_request_sent': False, u'has_extended_profile': False, u'profile_use_background_image': False, u'default_profile_image': False, u'id': 836399090, u'profile_background_image_url_https': u'https://abs.twimg.com/images/themes/theme1/bg.png', u'verified': False, u'translator_type': u'none', u'profile_text_color': u'000000', u'profile_image_url_https': u'https://pbs.twimg.com/profile_images/378800000641364003/b94c4f3d922ca606b2c4f0b534383c02_normal.jpeg', u'profile_sidebar_fill_color': u'000000', u'entities': {u'url': {u'urls': [{u'url': u'https://t.co/WQKHI7Ckjp', u'indices': [0, 23], u'expanded_url': u'https://www.linkedin.com/in/karlenegoller', u'display_url': u'linkedin.com/in/karlenegoll\\u2026'}]}, u'description': {u'urls': []}}, u'followers_count': 314, u'profile_sidebar_border_color': u'000000', u'id_str': u'836399090', u'profile_background_color': u'000000', u'listed_count': 12, u'is_translation_enabled': False, u'utc_offset': None, u'statuses_count': 2521, u'description': u'---The Law Office of Karlene Goller---  Media lawyer: content vetting, open records, newsgathering, production, IP. Lecturer of Media Law @UCILaw', u'friends_count': 516, u'location': u'Los Angeles, CA', u'profile_link_color': u'1B95E0', u'profile_image_url': u'http://pbs.twimg.com/profile_images/378800000641364003/b94c4f3d922ca606b2c4f0b534383c02_normal.jpeg', u'following': False, u'geo_enabled': False, u'profile_banner_url': u'https://pbs.twimg.com/profile_banners/836399090/1474068596', u'profile_background_image_url': u'http://abs.twimg.com/images/themes/theme1/bg.png', u'screen_name': u'KarleneGoller', u'lang': u'en', u'profile_background_tile': False, u'favourites_count': 620, u'name': u'Karlene Goller', u'notifications': False, u'url': u'https://t.co/WQKHI7Ckjp', u'created_at': u'Thu Sep 20 21:32:31 +0000 2012', u'contributors_enabled': False, u'time_zone': None, u'protected': False, u'default_profile': False, u'is_translator': False}, u'geo': None, u'in_reply_to_user_id_str': None, u'possibly_sensitive': False, u'lang': u'en', u'created_at': u'Thu Mar 02 18:40:43 +0000 2017', u'in_reply_to_status_id_str': None, u'place': None, u'metadata': {u'iso_language_code': u'en', u'result_type': u'recent'}}, coordinates=None, entities={u'symbols': [], u'user_mentions': [{u'id': 29754207, u'indices': [84, 98], u'id_str': u'29754207', u'screen_name': u'InsideCounsel', u'name': u'InsideCounsel'}], u'hashtags': [], u'urls': [{u'url': u'https://t.co/8TQ8JN2xUe', u'indices': [55, 78], u'expanded_url': u'http://www.insidecounsel.com/2017/03/01/fighting-echo-warrant-amazon-has-scant-law-to-draw#.WLhnKNCsNpA.twitter', u'display_url': u'insidecounsel.com/2017/03/01/fig\\u2026'}]}, in_reply_to_screen_name=None, id_str=u'837372112335593472', retweet_count=0, in_reply_to_user_id=None, favorited=False, source_url=u'http://twitter.com', user=User(follow_request_sent=False, has_extended_profile=False, profile_use_background_image=False, _json={u'follow_request_sent': False, u'has_extended_profile': False, u'profile_use_background_image': False, u'default_profile_image': False, u'id': 836399090, u'profile_background_image_url_https': u'https://abs.twimg.com/images/themes/theme1/bg.png', u'verified': False, u'translator_type': u'none', u'profile_text_color': u'000000', u'profile_image_url_https': u'https://pbs.twimg.com/profile_images/378800000641364003/b94c4f3d922ca606b2c4f0b534383c02_normal.jpeg', u'profile_sidebar_fill_color': u'000000', u'entities': {u'url': {u'urls': [{u'url': u'https://t.co/WQKHI7Ckjp', u'indices': [0, 23], u'expanded_url': u'https://www.linkedin.com/in/karlenegoller', u'display_url': u'linkedin.com/in/karlenegoll\\u2026'}]}, u'description': {u'urls': []}}, u'followers_count': 314, u'profile_sidebar_border_color': u'000000', u'id_str': u'836399090', u'profile_background_color': u'000000', u'listed_count': 12, u'is_translation_enabled': False, u'utc_offset': None, u'statuses_count': 2521, u'description': u'---The Law Office of Karlene Goller---  Media lawyer: content vetting, open records, newsgathering, production, IP. Lecturer of Media Law @UCILaw', u'friends_count': 516, u'location': u'Los Angeles, CA', u'profile_link_color': u'1B95E0', u'profile_image_url': u'http://pbs.twimg.com/profile_images/378800000641364003/b94c4f3d922ca606b2c4f0b534383c02_normal.jpeg', u'following': False, u'geo_enabled': False, u'profile_banner_url': u'https://pbs.twimg.com/profile_banners/836399090/1474068596', u'profile_background_image_url': u'http://abs.twimg.com/images/themes/theme1/bg.png', u'screen_name': u'KarleneGoller', u'lang': u'en', u'profile_background_tile': False, u'favourites_count': 620, u'name': u'Karlene Goller', u'notifications': False, u'url': u'https://t.co/WQKHI7Ckjp', u'created_at': u'Thu Sep 20 21:32:31 +0000 2012', u'contributors_enabled': False, u'time_zone': None, u'protected': False, u'default_profile': False, u'is_translator': False}, time_zone=None, id=836399090, description=u'---The Law Office of Karlene Goller---  Media lawyer: content vetting, open records, newsgathering, production, IP. Lecturer of Media Law @UCILaw', _api=<tweepy.api.API object at 0x106d84bd0>, verified=False, profile_text_color=u'000000', profile_image_url_https=u'https://pbs.twimg.com/profile_images/378800000641364003/b94c4f3d922ca606b2c4f0b534383c02_normal.jpeg', profile_sidebar_fill_color=u'000000', is_translator=False, geo_enabled=False, entities={u'url': {u'urls': [{u'url': u'https://t.co/WQKHI7Ckjp', u'indices': [0, 23], u'expanded_url': u'https://www.linkedin.com/in/karlenegoller', u'display_url': u'linkedin.com/in/karlenegoll\\u2026'}]}, u'description': {u'urls': []}}, followers_count=314, protected=False, id_str=u'836399090', default_profile_image=False, listed_count=12, lang=u'en', utc_offset=None, statuses_count=2521, profile_background_color=u'000000', friends_count=516, profile_link_color=u'1B95E0', profile_image_url=u'http://pbs.twimg.com/profile_images/378800000641364003/b94c4f3d922ca606b2c4f0b534383c02_normal.jpeg', notifications=False, default_profile=False, profile_background_image_url_https=u'https://abs.twimg.com/images/themes/theme1/bg.png', profile_banner_url=u'https://pbs.twimg.com/profile_banners/836399090/1474068596', profile_background_image_url=u'http://abs.twimg.com/images/themes/theme1/bg.png', name=u'Karlene Goller', is_translation_enabled=False, profile_background_tile=False, favourites_count=620, screen_name=u'KarleneGoller', url=u'https://t.co/WQKHI7Ckjp', created_at=datetime.datetime(2012, 9, 20, 21, 32, 31), contributors_enabled=False, location=u'Los Angeles, CA', profile_sidebar_border_color=u'000000', translator_type=u'none', following=False), geo=None, in_reply_to_user_id_str=None, possibly_sensitive=False, lang=u'en', created_at=datetime.datetime(2017, 3, 2, 18, 40, 43), in_reply_to_status_id_str=None, place=None, source=u'Twitter Web Client', retweeted=False, metadata={u'iso_language_code': u'en', u'result_type': u'recent'})"
      ]
     },
     "execution_count": 12,
     "metadata": {},
     "output_type": "execute_result"
    }
   ],
   "source": [
    "search_results[-1]"
   ]
  },
  {
   "cell_type": "code",
   "execution_count": 13,
   "metadata": {
    "collapsed": true
   },
   "outputs": [],
   "source": [
    "tmp = search_results[0]"
   ]
  },
  {
   "cell_type": "code",
   "execution_count": 14,
   "metadata": {
    "collapsed": false
   },
   "outputs": [],
   "source": [
    "tmp_results = map(lambda s: extract_id_dt_txt(s), search_results)"
   ]
  },
  {
   "cell_type": "code",
   "execution_count": 15,
   "metadata": {
    "collapsed": true
   },
   "outputs": [
    {
     "data": {
      "text/plain": [
       "[(837375681638055940,\n",
       "  '2017-03-02 18:54:54',\n",
       "  u'@Bob_Spina @psettel Alexa is great. We have an @amazon Echo and 2 Echo dots scattered across the house. Kids, in particular, use them a lot'),\n",
       " (837375150324662274,\n",
       "  '2017-03-02 18:52:48',\n",
       "  u'RT @HeritageHGroup: March 2017 Giveaway: Win an Amazon Echo w/ a two-night stay!* Re-tweet or share this post:... https://t.co/GSIVa0aiXv'),\n",
       " (837374897953341440,\n",
       "  '2017-03-02 18:51:48',\n",
       "  u'The winner of the Amazon Echo is Haylee Hamilton! Congratulations; come by the office and pick up your prize! \\U0001f389 https://t.co/K80dUb13Lv'),\n",
       " (837374730084593664,\n",
       "  '2017-03-02 18:51:07',\n",
       "  u'RT @HeritageHGroup: March 2017 Giveaway: Win an Amazon Echo w/ a two-night stay!* Re-tweet or share this post:... https://t.co/GSIVa0aiXv'),\n",
       " (837374568499044352,\n",
       "  '2017-03-02 18:50:29',\n",
       "  u'#NewRelease #SALE\\nEcho Of Fear is live!!\\nMy new #RomanticSuspense is a heart pounding read!\\n#99cents #bargainbook\\u2026 https://t.co/XCm5hccfhE'),\n",
       " (837374424324112384,\n",
       "  '2017-03-02 18:49:55',\n",
       "  u'Dear Amazon, I know you can\\'t see when I watch \"Black Mirror\" on Netflix. Rest assured, I don\\'t wanna buy an Echo, not now, not ever...'),\n",
       " (837373999260774400,\n",
       "  '2017-03-02 18:48:13',\n",
       "  u'RT @TechCrunch: Chat app Line is developing an AI assistant and Amazon Echo-style smart speaker https://t.co/T3SaHb4jBp'),\n",
       " (837373954054631425,\n",
       "  '2017-03-02 18:48:02',\n",
       "  u'RT @FiltrexGlobal: LIKE &amp; SHARE our Fbk page: https://t.co/vDBrrChU59 for a chance to WIN an Amazon Echo Dot! Follow &amp; RT too! #Competition\\u2026'),\n",
       " (837373932512636928,\n",
       "  '2017-03-02 18:47:57',\n",
       "  u'RT @TechCrunch: Chat app Line is developing an AI assistant and Amazon Echo-style smart speaker https://t.co/T3SaHb4jBp'),\n",
       " (837373267270774784,\n",
       "  '2017-03-02 18:45:19',\n",
       "  u'To know how good #Chromecast #Audio or #Amazon #Echo is #Stream your #Music with Role Audio #Audiophile Music Box\\u2026 https://t.co/i8KOMzVcoZ'),\n",
       " (837372957022310400,\n",
       "  '2017-03-02 18:44:05',\n",
       "  u'RT @nik_bhat: #assistedliving #alexa is finally being recognized as a tool that could help. We have a ways to go no doubt. \\n\\nhttps://t.co/2\\u2026'),\n",
       " (837372843000217601,\n",
       "  '2017-03-02 18:43:38',\n",
       "  u'RT @TechCrunch: Chat app Line is developing an AI assistant and Amazon Echo-style smart speaker https://t.co/T3SaHb4jBp'),\n",
       " (837372834171215876,\n",
       "  '2017-03-02 18:43:35',\n",
       "  u'RT @yugiohtas: watching Smackdown Live! with an Amazon Echo nearby be like #WWE https://t.co/ajnwx0VyvB'),\n",
       " (837372762327035904,\n",
       "  '2017-03-02 18:43:18',\n",
       "  u'A Revolution in Home Healthcare https://t.co/iNIMIBli4D #healthcare #innovation #revolution #amazonecho #amazon #echo #doctor #patients'),\n",
       " (837372112335593472,\n",
       "  '2017-03-02 18:40:43',\n",
       "  u'Fighting Echo Warrant, Amazon Has Scant Law to Draw On https://t.co/8TQ8JN2xUe (via @InsideCounsel)')]"
      ]
     },
     "execution_count": 15,
     "metadata": {},
     "output_type": "execute_result"
    }
   ],
   "source": [
    "tmp_results"
   ]
  },
  {
   "cell_type": "code",
   "execution_count": 3,
   "metadata": {
    "collapsed": false
   },
   "outputs": [
    {
     "data": {
      "text/plain": [
       "(7, 2, -1)"
      ]
     },
     "execution_count": 3,
     "metadata": {},
     "output_type": "execute_result"
    }
   ],
   "source": [
    "# min([(1, 2, 3), (4, 3, 1), (7, 2,-1)],key = lambda x: x[2])"
   ]
  },
  {
   "cell_type": "code",
   "execution_count": 54,
   "metadata": {
    "collapsed": false
   },
   "outputs": [
    {
     "data": {
      "text/plain": [
       "837348561520033792"
      ]
     },
     "execution_count": 54,
     "metadata": {},
     "output_type": "execute_result"
    }
   ],
   "source": [
    "min_max_id[0]"
   ]
  },
  {
   "cell_type": "code",
   "execution_count": 18,
   "metadata": {
    "collapsed": false
   },
   "outputs": [],
   "source": [
    "search_results2 = api.search(q=r\"amazon echo\", max_id=min_max_id[0])\n",
    "tmp_results2 = map(lambda s: extract_id_dt_txt(s), search_results2)"
   ]
  },
  {
   "cell_type": "code",
   "execution_count": 19,
   "metadata": {
    "collapsed": false,
    "scrolled": true
   },
   "outputs": [
    {
     "data": {
      "text/plain": [
       "[(837372112335593472,\n",
       "  '2017-03-02 18:40:43',\n",
       "  u'Fighting Echo Warrant, Amazon Has Scant Law to Draw On https://t.co/8TQ8JN2xUe (via @InsideCounsel)'),\n",
       " (837371998724575232,\n",
       "  '2017-03-02 18:40:16',\n",
       "  u'#affiliate Shop Amazon Echo - Always Ready, Connected, and Fast. Just Ask https://t.co/Ygq7guQabv'),\n",
       " (837371840175681536,\n",
       "  '2017-03-02 18:39:38',\n",
       "  u\"Combine #Amazon's  #Echo #Dot #digital #assistant with #Role #Audio #Music #Box for a #premium #music #system\\u2026 https://t.co/e7iqFeCHUL\"),\n",
       " (837371756956512256,\n",
       "  '2017-03-02 18:39:19',\n",
       "  u'RT @wvpublic: You can now listen to @wvpublicnews headlines on @amazon Echo! Just say, \"Alexa, Enable @NPROne.\" https://t.co/yXJfTtRFS7'),\n",
       " (837371599342952449,\n",
       "  '2017-03-02 18:38:41',\n",
       "  u'RT @TechCrunch: Chat app Line is developing an AI assistant and Amazon Echo-style smart speaker https://t.co/T3SaHb4jBp'),\n",
       " (837371197910179840,\n",
       "  '2017-03-02 18:37:05',\n",
       "  u'RT @TechCrunch: Chat app Line is developing an AI assistant and Amazon Echo-style smart speaker https://t.co/T3SaHb4jBp'),\n",
       " (837371187995021316,\n",
       "  '2017-03-02 18:37:03',\n",
       "  u'RT @TechCrunch: Chat app Line is developing an AI assistant and Amazon Echo-style smart speaker https://t.co/T3SaHb4jBp'),\n",
       " (837371184232681472,\n",
       "  '2017-03-02 18:37:02',\n",
       "  u'RT @thorntonscomms: Do you think #Google Home &amp; #Amazon Echo smart speakers could replace landline phones for good? https://t.co/miG0VbYju8\\u2026'),\n",
       " (837370979848445952,\n",
       "  '2017-03-02 18:36:13',\n",
       "  u'RT @TechCrunch: Chat app Line is developing an AI assistant and Amazon Echo-style smart speaker https://t.co/T3SaHb4jBp'),\n",
       " (837369725495701505,\n",
       "  '2017-03-02 18:31:14',\n",
       "  u'Mein Mann hat neulich 1 Amazon Echo gekauft, heute angekommen.\\n\\nIch hasse Alexa jetzt schon.'),\n",
       " (837369639193755648,\n",
       "  '2017-03-02 18:30:54',\n",
       "  u\"Amazon Echo &amp; year's supply of pizza to be won https://t.co/mmklVMW7hC\"),\n",
       " (837369583262711809,\n",
       "  '2017-03-02 18:30:40',\n",
       "  u'Do you think #Google Home &amp; #Amazon Echo smart speakers could replace landline phones for good?\\u2026 https://t.co/yV61W82uAD'),\n",
       " (837369360683425793,\n",
       "  '2017-03-02 18:29:47',\n",
       "  u'RT @TechCrunch: Chat app Line is developing an AI assistant and Amazon Echo-style smart speaker https://t.co/T3SaHb4jBp'),\n",
       " (837369314172809216,\n",
       "  '2017-03-02 18:29:36',\n",
       "  u'Amazon Echo\\u52dd\\u3061\\u30b2\\u30fc\\u306b\\u4eca\\u66f4LINE\\u7a81\\u5165\\u3000\\u5b9f\\u306fGatebox\\u3053\\u305d\\u304c\\u5149\\u660e | \\u5c3e\\u539f\\u548c\\u5553\\u306e\\u516c\\u5f0f\\u30b5\\u30a4\\u30c8 https://t.co/jSsYSXJxW5'),\n",
       " (837368678870106112,\n",
       "  '2017-03-02 18:27:05',\n",
       "  u'RT @TechCrunch: Chat app Line is developing an AI assistant and Amazon Echo-style smart speaker https://t.co/T3SaHb4jBp')]"
      ]
     },
     "execution_count": 19,
     "metadata": {},
     "output_type": "execute_result"
    }
   ],
   "source": [
    "tmp_results2"
   ]
  },
  {
   "cell_type": "code",
   "execution_count": 103,
   "metadata": {
    "collapsed": true
   },
   "outputs": [],
   "source": [
    "search_results3 = api.search(q=r\"amazon echo\", max_id=min_max_id[0], count = 100)\n",
    "tmp_results3 = map(lambda s: extract_id_dt_txt(s), search_results3)"
   ]
  },
  {
   "cell_type": "code",
   "execution_count": 6,
   "metadata": {
    "collapsed": true
   },
   "outputs": [],
   "source": [
    "# tmp_results3"
   ]
  },
  {
   "cell_type": "code",
   "execution_count": null,
   "metadata": {
    "collapsed": true
   },
   "outputs": [],
   "source": []
  },
  {
   "cell_type": "code",
   "execution_count": null,
   "metadata": {
    "collapsed": true
   },
   "outputs": [],
   "source": []
  },
  {
   "cell_type": "code",
   "execution_count": 8,
   "metadata": {
    "collapsed": false
   },
   "outputs": [
    {
     "data": {
      "text/plain": [
       "u'WJHG now has an Alexa skill to add to your flash briefing if you have an Amazon Echo, Dot, or Tap.  Check it out! https://t.co/T45BvxgG3n'"
      ]
     },
     "execution_count": 8,
     "metadata": {},
     "output_type": "execute_result"
    }
   ],
   "source": [
    "s = search_results[0]\n",
    "s.text"
   ]
  },
  {
   "cell_type": "code",
   "execution_count": 29,
   "metadata": {
    "collapsed": false
   },
   "outputs": [],
   "source": [
    "#Saves twitter json\n",
    "twitter_json = map(lambda tweet_status:tweet_status._json, search_results)\n",
    "\n",
    "with open('amazon_twitter.txt', 'wb+') as f:\n",
    "    f.write(json.dumps(twitter_json))"
   ]
  },
  {
   "cell_type": "code",
   "execution_count": 40,
   "metadata": {
    "collapsed": false
   },
   "outputs": [],
   "source": [
    "#Opens twitter json\n",
    "with open('amazon_twitter.txt', 'r') as f:\n",
    "    twitter_raw_txt = f.read()"
   ]
  },
  {
   "cell_type": "code",
   "execution_count": 41,
   "metadata": {
    "collapsed": false
   },
   "outputs": [],
   "source": [
    "twitter_dict = json.loads(twitter_raw_txt)\n",
    "twitter_txt = map(lambda t: t['text'], twitter_dict)"
   ]
  },
  {
   "cell_type": "code",
   "execution_count": 56,
   "metadata": {
    "collapsed": false
   },
   "outputs": [],
   "source": [
    "def tokenize_txt(s):\n",
    "    words = s.split()\n",
    "    words = map(lambda w: w.strip(string.punctuation).lower(), words)\n",
    "    return [w for w in words if 'https' not in w]\n",
    "    "
   ]
  },
  {
   "cell_type": "code",
   "execution_count": 57,
   "metadata": {
    "collapsed": false
   },
   "outputs": [
    {
     "data": {
      "text/plain": [
       "[u'rt',\n",
       " u'nyachi',\n",
       " u'\\u5bfe\\u8a71\\u30ac\\u30b8\\u30a7\\u30c3\\u30c8\\u3068\\u3044\\u3048\\u3070\\u3001\\u30ea\\u30d3\\u30f3\\u30b0\\u30eb\\u30fc\\u30e0\\u3067\\u97f3\\u58f0\\u30bf\\u30a4\\u30de\\u30fc\\u3068\\u3057\\u3066\\u6d3b\\u8e8d\\u3057\\u3066\\u3044\\u308b',\n",
       " u'amazon',\n",
       " u'echo\\u304c\\u3001\\u3068\\u304d\\u3069\\u304d\\u300c\\u30a2\\u30ec\\u30af\\u30b5\\u300d\\u3068\\u547c\\u3070\\u308c\\u305f\\u3068\\u52d8\\u9055\\u3044\\u3057\\u3066\\u5bb6\\u65cf\\u306e\\u4f1a\\u8a71\\u306b\\u5165\\u3063\\u3066\\u304f\\u308b\\u3053\\u3068\\u304c\\u3042\\u3063\\u3066\\uff08\\u3084\\u3070\\u3044\\u3001\\u3053\\u3044\\u3064\\u305a\\u3063\\u3068\\u5bb6\\u65cf\\u306e\\u4f1a\\u8a71\\u306b\\u8033\\u3092\\u3059\\u307e\\u305b\\u3066\\u308b\\u3002\\u3064\\u307e\\u308a\\u4f55\\u304c\\u6d41\\u51fa\\u3057\\u3066\\u308b\\u304b\\u5206\\u304b\\u3089\\u3093\\u2026']"
      ]
     },
     "execution_count": 57,
     "metadata": {},
     "output_type": "execute_result"
    }
   ],
   "source": [
    "tokenize_txt(twitter_txt[2])"
   ]
  },
  {
   "cell_type": "code",
   "execution_count": 5,
   "metadata": {
    "collapsed": false
   },
   "outputs": [],
   "source": [
    "# for status in tweepy.Cursor(tweepy.api.search, q=\"#twitter\").items():\n",
    "#     print(status)"
   ]
  },
  {
   "cell_type": "code",
   "execution_count": null,
   "metadata": {
    "collapsed": false
   },
   "outputs": [],
   "source": []
  },
  {
   "cell_type": "code",
   "execution_count": null,
   "metadata": {
    "collapsed": true
   },
   "outputs": [],
   "source": []
  },
  {
   "cell_type": "code",
   "execution_count": null,
   "metadata": {
    "collapsed": true
   },
   "outputs": [],
   "source": []
  }
 ],
 "metadata": {
  "anaconda-cloud": {},
  "kernelspec": {
   "display_name": "Python [Root]",
   "language": "python",
   "name": "Python [Root]"
  },
  "language_info": {
   "codemirror_mode": {
    "name": "ipython",
    "version": 2
   },
   "file_extension": ".py",
   "mimetype": "text/x-python",
   "name": "python",
   "nbconvert_exporter": "python",
   "pygments_lexer": "ipython2",
   "version": "2.7.12"
  }
 },
 "nbformat": 4,
 "nbformat_minor": 0
}
